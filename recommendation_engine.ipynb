{
  "cells": [
    {
      "cell_type": "markdown",
      "metadata": {
        "id": "jsfICwvd47fN"
      },
      "source": [
        "# Mecanismo de recomendação com PySpark\n",
        "\n",
        "<font size=3>Esse mecanismo de recomendação usa dados de feedback implícitos de um site de comércio eletrônico, que inclui interações do usuário, como visualizações, carrinhos e compras. [Link do conjunto de dados](https://www.kaggle.com/datasets/mkechinov/ecommerce-behavior-data-from-multi-category-store)\n",
        "\n",
        "<font size=3>O mecanismo fornece recomendações personalizadas aos usuários usando fatoração de matriz com o algoritmo Alternating Least Squares junto com outros recursos, como compra por visualização. Além disso, identifica produtos substitutos e complementares comparando seus vetores usando o algoritmo Locality Sensitive Hashing.\n",
        "\n",
        "<font size=3>Ao melhorar a experiência do usuário e aumentar a satisfação e retenção do cliente, o projeto visa aumentar as vendas e o lucro na plataforma. A natureza altamente personalizada das pontuações de recomendação torna este mecanismo uma ferramenta valiosa para qualquer empresa de comércio eletrônico que busca melhorar suas recomendações de produtos."
      ]
    },
    {
      "cell_type": "code",
      "execution_count": 1,
      "metadata": {
        "colab": {
          "base_uri": "https://localhost:8080/"
        },
        "id": "vPctkxuQRaYU",
        "outputId": "e5122878-1b4f-4144-e280-a27ee67b096c"
      },
      "outputs": [
        {
          "name": "stdout",
          "output_type": "stream",
          "text": [
            "Collecting pyspark\n",
            "  Downloading pyspark-3.5.1.tar.gz (317.0 MB)\n",
            "\u001b[2K     \u001b[90m━━━━━━━━━━━━━━━━━━━━━━━━━━━━━━━━━━━━━━━━\u001b[0m \u001b[32m317.0/317.0 MB\u001b[0m \u001b[31m2.2 MB/s\u001b[0m eta \u001b[36m0:00:00\u001b[0m\n",
            "\u001b[?25h  Preparing metadata (setup.py) ... \u001b[?25l\u001b[?25hdone\n",
            "Requirement already satisfied: py4j==0.10.9.7 in /usr/local/lib/python3.10/dist-packages (from pyspark) (0.10.9.7)\n",
            "Building wheels for collected packages: pyspark\n",
            "  Building wheel for pyspark (setup.py) ... \u001b[?25l\u001b[?25hdone\n",
            "  Created wheel for pyspark: filename=pyspark-3.5.1-py2.py3-none-any.whl size=317488491 sha256=3a4547b71e35ed9ec848f2f1384c956f4c95ea447e47c007aaeab66592c9d5ef\n",
            "  Stored in directory: /root/.cache/pip/wheels/80/1d/60/2c256ed38dddce2fdd93be545214a63e02fbd8d74fb0b7f3a6\n",
            "Successfully built pyspark\n",
            "Installing collected packages: pyspark\n",
            "Successfully installed pyspark-3.5.1\n",
            "The following additional packages will be installed:\n",
            "  libxtst6 openjdk-8-jre-headless\n",
            "Suggested packages:\n",
            "  openjdk-8-demo openjdk-8-source libnss-mdns fonts-dejavu-extra fonts-nanum fonts-ipafont-gothic\n",
            "  fonts-ipafont-mincho fonts-wqy-microhei fonts-wqy-zenhei fonts-indic\n",
            "The following NEW packages will be installed:\n",
            "  libxtst6 openjdk-8-jdk-headless openjdk-8-jre-headless\n",
            "0 upgraded, 3 newly installed, 0 to remove and 45 not upgraded.\n",
            "Need to get 39.7 MB of archives.\n",
            "After this operation, 144 MB of additional disk space will be used.\n",
            "Selecting previously unselected package libxtst6:amd64.\n",
            "(Reading database ... 121918 files and directories currently installed.)\n",
            "Preparing to unpack .../libxtst6_2%3a1.2.3-1build4_amd64.deb ...\n",
            "Unpacking libxtst6:amd64 (2:1.2.3-1build4) ...\n",
            "Selecting previously unselected package openjdk-8-jre-headless:amd64.\n",
            "Preparing to unpack .../openjdk-8-jre-headless_8u402-ga-2ubuntu1~22.04_amd64.deb ...\n",
            "Unpacking openjdk-8-jre-headless:amd64 (8u402-ga-2ubuntu1~22.04) ...\n",
            "Selecting previously unselected package openjdk-8-jdk-headless:amd64.\n",
            "Preparing to unpack .../openjdk-8-jdk-headless_8u402-ga-2ubuntu1~22.04_amd64.deb ...\n",
            "Unpacking openjdk-8-jdk-headless:amd64 (8u402-ga-2ubuntu1~22.04) ...\n",
            "Setting up libxtst6:amd64 (2:1.2.3-1build4) ...\n",
            "Setting up openjdk-8-jre-headless:amd64 (8u402-ga-2ubuntu1~22.04) ...\n",
            "update-alternatives: using /usr/lib/jvm/java-8-openjdk-amd64/jre/bin/orbd to provide /usr/bin/orbd (orbd) in auto mode\n",
            "update-alternatives: using /usr/lib/jvm/java-8-openjdk-amd64/jre/bin/servertool to provide /usr/bin/servertool (servertool) in auto mode\n",
            "update-alternatives: using /usr/lib/jvm/java-8-openjdk-amd64/jre/bin/tnameserv to provide /usr/bin/tnameserv (tnameserv) in auto mode\n",
            "Setting up openjdk-8-jdk-headless:amd64 (8u402-ga-2ubuntu1~22.04) ...\n",
            "update-alternatives: using /usr/lib/jvm/java-8-openjdk-amd64/bin/clhsdb to provide /usr/bin/clhsdb (clhsdb) in auto mode\n",
            "update-alternatives: using /usr/lib/jvm/java-8-openjdk-amd64/bin/extcheck to provide /usr/bin/extcheck (extcheck) in auto mode\n",
            "update-alternatives: using /usr/lib/jvm/java-8-openjdk-amd64/bin/hsdb to provide /usr/bin/hsdb (hsdb) in auto mode\n",
            "update-alternatives: using /usr/lib/jvm/java-8-openjdk-amd64/bin/idlj to provide /usr/bin/idlj (idlj) in auto mode\n",
            "update-alternatives: using /usr/lib/jvm/java-8-openjdk-amd64/bin/javah to provide /usr/bin/javah (javah) in auto mode\n",
            "update-alternatives: using /usr/lib/jvm/java-8-openjdk-amd64/bin/jhat to provide /usr/bin/jhat (jhat) in auto mode\n",
            "update-alternatives: using /usr/lib/jvm/java-8-openjdk-amd64/bin/jsadebugd to provide /usr/bin/jsadebugd (jsadebugd) in auto mode\n",
            "update-alternatives: using /usr/lib/jvm/java-8-openjdk-amd64/bin/native2ascii to provide /usr/bin/native2ascii (native2ascii) in auto mode\n",
            "update-alternatives: using /usr/lib/jvm/java-8-openjdk-amd64/bin/schemagen to provide /usr/bin/schemagen (schemagen) in auto mode\n",
            "update-alternatives: using /usr/lib/jvm/java-8-openjdk-amd64/bin/wsgen to provide /usr/bin/wsgen (wsgen) in auto mode\n",
            "update-alternatives: using /usr/lib/jvm/java-8-openjdk-amd64/bin/wsimport to provide /usr/bin/wsimport (wsimport) in auto mode\n",
            "update-alternatives: using /usr/lib/jvm/java-8-openjdk-amd64/bin/xjc to provide /usr/bin/xjc (xjc) in auto mode\n",
            "Processing triggers for libc-bin (2.35-0ubuntu3.4) ...\n",
            "/sbin/ldconfig.real: /usr/local/lib/libtbbmalloc.so.2 is not a symbolic link\n",
            "\n",
            "/sbin/ldconfig.real: /usr/local/lib/libtbbmalloc_proxy.so.2 is not a symbolic link\n",
            "\n",
            "/sbin/ldconfig.real: /usr/local/lib/libtbb.so.12 is not a symbolic link\n",
            "\n",
            "/sbin/ldconfig.real: /usr/local/lib/libtbbbind.so.3 is not a symbolic link\n",
            "\n",
            "/sbin/ldconfig.real: /usr/local/lib/libtbbbind_2_0.so.3 is not a symbolic link\n",
            "\n",
            "/sbin/ldconfig.real: /usr/local/lib/libtbbbind_2_5.so.3 is not a symbolic link\n",
            "\n"
          ]
        }
      ],
      "source": [
        "!pip install pyspark\n",
        "!pip install -U -q PyDrive\n",
        "!apt install openjdk-8-jdk-headless -qq\n",
        "import os\n",
        "os.environ[\"JAVA_HOME\"] = \"/usr/lib/jvm/java-8-openjdk-amd64\""
      ]
    },
    {
      "cell_type": "code",
      "execution_count": 1,
      "metadata": {
        "id": "LzGe26aq47fO"
      },
      "outputs": [],
      "source": [
        "import numpy as np\n",
        "import sys\n",
        "import math\n",
        "import pandas as pd\n",
        "from pyspark.sql import SparkSession\n",
        "from pyspark.context import SparkContext\n",
        "from pyspark.sql.functions import *\n",
        "import pyspark.sql.functions as f\n",
        "from pyspark.sql.types import DoubleType\n",
        "import matplotlib.pyplot as plt\n",
        "import pyarrow\n",
        "\n",
        "import glob\n",
        "import os\n",
        "\n",
        "import pyspark.sql.functions as f\n",
        "from pyspark.sql.types import DoubleType"
      ]
    },
    {
      "cell_type": "code",
      "execution_count": 3,
      "metadata": {
        "colab": {
          "base_uri": "https://localhost:8080/"
        },
        "id": "7S4P0t49DkTV",
        "outputId": "fe84b46e-0200-4121-8430-2da8e52e15de"
      },
      "outputs": [],
      "source": [
        "#from google.colab import drive\n",
        "#drive.mount('/content/drive')"
      ]
    },
    {
      "cell_type": "code",
      "execution_count": 2,
      "metadata": {
        "id": "3iKhyRmV47fP"
      },
      "outputs": [
        {
          "name": "stderr",
          "output_type": "stream",
          "text": [
            "24/05/27 21:56:26 WARN Utils: Your hostname, MacBook-Air-de-Henrique.local resolves to a loopback address: 127.0.0.1; using 192.168.15.19 instead (on interface en0)\n",
            "24/05/27 21:56:26 WARN Utils: Set SPARK_LOCAL_IP if you need to bind to another address\n",
            "Setting default log level to \"WARN\".\n",
            "To adjust logging level use sc.setLogLevel(newLevel). For SparkR, use setLogLevel(newLevel).\n",
            "24/05/27 21:56:27 WARN NativeCodeLoader: Unable to load native-hadoop library for your platform... using builtin-java classes where applicable\n"
          ]
        }
      ],
      "source": [
        "# Initialize Spark session\n",
        "\n",
        "sc = SparkSession.builder.appName(\"Product_Recommendation\") \\\n",
        ".config(\"spark.sql.shuffle.partitions\", \"200\") \\\n",
        ".config(\"spark.driver.maxResultSize\", \"2g\") \\\n",
        ".config(\"spark.sql.execution.arrow.enabled\", \"true\") \\\n",
        ".config(\"spark.driver.memory\", \"8g\") \\\n",
        ".config(\"spark.executor.cores\", \"4\") \\\n",
        ".config(\"spark.executor.memory\", \"8g\") \\\n",
        ".config(\"spark.sql.execution.arrow.pyspark.enabled\", \"true\") \\\n",
        ".config(\"spark.dynamicAllocation.enabled\", \"true\") \\\n",
        ".config(\"spark.dynamicAllocation.minExecutors\", \"1\") \\\n",
        ".config(\"spark.dynamicAllocation.maxExecutors\", \"10\") \\\n",
        ".config(\"spark.executor.extraJavaOptions\", \"-XX:+UseG1GC -XX:MaxGCPauseMillis=200\") \\\n",
        ".config(\"spark.driver.extraJavaOptions\", \"-XX:+UseG1GC -XX:MaxGCPauseMillis=200\") \\\n",
        ".getOrCreate()\n",
        "\n",
        "sc.sparkContext.setLogLevel(\"ERROR\")"
      ]
    },
    {
      "cell_type": "code",
      "execution_count": 3,
      "metadata": {
        "id": "XhuWbKH547fP"
      },
      "outputs": [],
      "source": [
        "df = sc.read.option('header', True).csv('./2019-Nov.csv')\n",
        "df = df.sample(0.1, seed=321)"
      ]
    },
    {
      "cell_type": "code",
      "execution_count": 4,
      "metadata": {
        "colab": {
          "base_uri": "https://localhost:8080/"
        },
        "id": "L4o24cVf47fP",
        "outputId": "e2a1fc2f-8aac-47af-9e1c-5b8dee94b4b0"
      },
      "outputs": [
        {
          "name": "stdout",
          "output_type": "stream",
          "text": [
            "root\n",
            " |-- event_time: string (nullable = true)\n",
            " |-- event_type: string (nullable = true)\n",
            " |-- product_id: string (nullable = true)\n",
            " |-- category_id: string (nullable = true)\n",
            " |-- category_code: string (nullable = true)\n",
            " |-- brand: string (nullable = true)\n",
            " |-- price: string (nullable = true)\n",
            " |-- user_id: string (nullable = true)\n",
            " |-- user_session: string (nullable = true)\n",
            "\n"
          ]
        },
        {
          "name": "stderr",
          "output_type": "stream",
          "text": [
            "                                                                                \r"
          ]
        },
        {
          "data": {
            "text/plain": [
              "6751602"
            ]
          },
          "execution_count": 4,
          "metadata": {},
          "output_type": "execute_result"
        }
      ],
      "source": [
        "df.printSchema()\n",
        "df.count()"
      ]
    },
    {
      "cell_type": "code",
      "execution_count": 5,
      "metadata": {
        "colab": {
          "base_uri": "https://localhost:8080/"
        },
        "id": "T5DnTg5347fQ",
        "outputId": "7d4fd64b-8f05-4636-9aaa-359559146451"
      },
      "outputs": [
        {
          "name": "stdout",
          "output_type": "stream",
          "text": [
            "+-----------------------+----------+----------+-------------------+--------------------------+-----+------+---------+------------------------------------+\n",
            "|event_time             |event_type|product_id|category_id        |category_code             |brand|price |user_id  |user_session                        |\n",
            "+-----------------------+----------+----------+-------------------+--------------------------+-----+------+---------+------------------------------------+\n",
            "|2019-11-01 00:00:07 UTC|view      |27400066  |2053013563391345499|NULL                      |NULL |8.55  |551061950|3f6112f1-5695-4e88-bb0a-49f9e36658ff|\n",
            "|2019-11-01 00:00:08 UTC|view      |17200558  |2053013559792632471|furniture.living_room.sofa|NULL |591.78|566280536|34e7a822-0b93-4a9a-8ce0-bae4cadb21d8|\n",
            "|2019-11-01 00:00:09 UTC|view      |26019863  |2053013562837697343|NULL                      |NULL |11.79 |566280860|341a87d8-8cf4-4b4a-8b7d-749380697af1|\n",
            "|2019-11-01 00:00:11 UTC|view      |1307340   |2053013558920217191|computers.notebook        |asus |360.34|520772685|816a59f3-f5ae-4ccd-9b23-82aa8c23d33c|\n",
            "|2019-11-01 00:00:11 UTC|view      |41100055  |2090228413959766319|NULL                      |NULL |38.07 |562234311|4cbd502f-b1df-4bcf-a1cb-78bb18c37e70|\n",
            "+-----------------------+----------+----------+-------------------+--------------------------+-----+------+---------+------------------------------------+\n",
            "only showing top 5 rows\n",
            "\n"
          ]
        }
      ],
      "source": [
        "df.show(5, truncate=False)"
      ]
    },
    {
      "cell_type": "markdown",
      "metadata": {
        "id": "BdPmtcrW47fQ"
      },
      "source": [
        "## Exploratory Data Analysis"
      ]
    },
    {
      "cell_type": "code",
      "execution_count": 6,
      "metadata": {
        "colab": {
          "base_uri": "https://localhost:8080/",
          "height": 502
        },
        "id": "8E5MabgK47fQ",
        "outputId": "ebf52710-0a6b-4e72-b417-baf5793068a7"
      },
      "outputs": [
        {
          "name": "stderr",
          "output_type": "stream",
          "text": [
            "[Stage 5:======================================================>  (65 + 3) / 68]\r"
          ]
        },
        {
          "name": "stdout",
          "output_type": "stream",
          "text": [
            "+----------+----------+----------+-----------+-------------+------+-----+-------+------------+\n",
            "|event_time|event_type|product_id|category_id|category_code| brand|price|user_id|user_session|\n",
            "+----------+----------+----------+-----------+-------------+------+-----+-------+------------+\n",
            "|         0|         0|         0|          0|      2189503|921267|    0|      0|           1|\n",
            "+----------+----------+----------+-----------+-------------+------+-----+-------+------------+\n",
            "\n"
          ]
        },
        {
          "name": "stderr",
          "output_type": "stream",
          "text": [
            "                                                                                \r"
          ]
        }
      ],
      "source": [
        "# Null values\n",
        "\n",
        "df.select([count(when(isnull(c), c)).alias(c) for c in df.columns]).show()"
      ]
    },
    {
      "cell_type": "code",
      "execution_count": 7,
      "metadata": {
        "colab": {
          "base_uri": "https://localhost:8080/",
          "height": 502
        },
        "id": "N88fvCkg47fR",
        "outputId": "5fba4290-cd98-418a-ac2c-ba5e7a400504"
      },
      "outputs": [
        {
          "name": "stderr",
          "output_type": "stream",
          "text": [
            "[Stage 8:======================================================>  (65 + 3) / 68]\r"
          ]
        },
        {
          "name": "stdout",
          "output_type": "stream",
          "text": [
            "+----------+-------+\n",
            "|event_type|  count|\n",
            "+----------+-------+\n",
            "|  purchase|  92316|\n",
            "|      view|6356866|\n",
            "|      cart| 302420|\n",
            "+----------+-------+\n",
            "\n"
          ]
        },
        {
          "name": "stderr",
          "output_type": "stream",
          "text": [
            "                                                                                \r"
          ]
        }
      ],
      "source": [
        "# Number of events\n",
        "\n",
        "df.groupBy('event_type').count().show()"
      ]
    },
    {
      "cell_type": "code",
      "execution_count": 8,
      "metadata": {
        "colab": {
          "base_uri": "https://localhost:8080/",
          "height": 440
        },
        "id": "cXfxma_B47fS",
        "outputId": "7e12828f-a3aa-40af-f9da-d2865db606e4"
      },
      "outputs": [
        {
          "data": {
            "text/plain": [
              "<Axes: ylabel='count'>"
            ]
          },
          "execution_count": 8,
          "metadata": {},
          "output_type": "execute_result"
        },
        {
          "data": {
            "image/png": "[encoded data removed]",
            "text/plain": [
              "<Figure size 500x500 with 1 Axes>"
            ]
          },
          "metadata": {},
          "output_type": "display_data"
        }
      ],
      "source": [
        "grouped_df = df.groupBy('event_type').agg(f.count('*').alias('count'))\n",
        "\n",
        "# Write the DataFrame to a CSV file\n",
        "output_path = './events_output'\n",
        "#grouped_df.write.csv(output_path, header=True)\n",
        "\n",
        "csv_files = glob.glob(os.path.join(output_path, '*.csv'))\n",
        "\n",
        "if len(csv_files) == 1:\n",
        "    csv_file = csv_files[0]\n",
        "else:\n",
        "    raise ValueError(\"There should be exactly one CSV file in the output directory.\")\n",
        "\n",
        "# Read the CSV file into a Pandas DataFrame\n",
        "events = pd.read_csv(csv_file)\n",
        "events.plot(kind='pie', y=('count'), labels=events['event_type'], autopct='%1.2f%%', figsize=(5, 5))"
      ]
    },
    {
      "cell_type": "code",
      "execution_count": 9,
      "metadata": {
        "colab": {
          "base_uri": "https://localhost:8080/"
        },
        "id": "oISn4Riw47fS",
        "outputId": "93fac1f1-532c-476c-88dc-ca3974a76c3c"
      },
      "outputs": [
        {
          "name": "stderr",
          "output_type": "stream",
          "text": [
            "[Stage 11:=====================================================>  (65 + 3) / 68]\r"
          ]
        },
        {
          "name": "stdout",
          "output_type": "stream",
          "text": [
            "+--------------------------+\n",
            "|count(DISTINCT product_id)|\n",
            "+--------------------------+\n",
            "|                    149293|\n",
            "+--------------------------+\n",
            "\n"
          ]
        },
        {
          "name": "stderr",
          "output_type": "stream",
          "text": [
            "                                                                                \r"
          ]
        }
      ],
      "source": [
        "df.select(f.countDistinct(\"product_id\")).show()\n",
        "\n",
        "# 190k products"
      ]
    },
    {
      "cell_type": "markdown",
      "metadata": {
        "id": "hGfILIth47fS"
      },
      "source": [
        "<font size=3>Verifique se todos os produtos pertencem a uma única categoria agrupando os produtos por seu ID, coletando seus IDs de categoria em um conjunto e imprimindo o número de produtos que pertencem a uma única categoria."
      ]
    },
    {
      "cell_type": "code",
      "execution_count": 10,
      "metadata": {
        "colab": {
          "base_uri": "https://localhost:8080/"
        },
        "id": "7THC0s9z47fT",
        "outputId": "306b0138-5513-4d43-80aa-47bcf7309446"
      },
      "outputs": [
        {
          "name": "stderr",
          "output_type": "stream",
          "text": [
            "                                                                                \r"
          ]
        },
        {
          "data": {
            "text/plain": [
              "149293"
            ]
          },
          "execution_count": 10,
          "metadata": {},
          "output_type": "execute_result"
        }
      ],
      "source": [
        "df.groupby('product_id').agg(f.collect_set('category_id'))\\\n",
        "                        .filter(size(col('collect_set(category_id)')) == 1).count()\n",
        "\n",
        "# All products belong to a single category"
      ]
    },
    {
      "cell_type": "code",
      "execution_count": 11,
      "metadata": {
        "colab": {
          "background_save": true
        },
        "id": "gGCtY1X847fT",
        "outputId": "31d0231f-3b08-4f2b-900c-3011c5d89888"
      },
      "outputs": [
        {
          "name": "stderr",
          "output_type": "stream",
          "text": [
            "[Stage 23:======================================================> (66 + 2) / 68]\r"
          ]
        },
        {
          "name": "stdout",
          "output_type": "stream",
          "text": [
            "+---------------------------+\n",
            "|count(DISTINCT category_id)|\n",
            "+---------------------------+\n",
            "|                        675|\n",
            "+---------------------------+\n",
            "\n"
          ]
        },
        {
          "name": "stderr",
          "output_type": "stream",
          "text": [
            "                                                                                \r"
          ]
        }
      ],
      "source": [
        "df.select(f.countDistinct(\"category_id\")).show()\n",
        "\n",
        "# 684 categories"
      ]
    },
    {
      "cell_type": "code",
      "execution_count": 12,
      "metadata": {
        "colab": {
          "base_uri": "https://localhost:8080/"
        },
        "id": "RuKeDqKb47fT",
        "outputId": "e58ee90d-6b2e-45d8-f9dd-283d8e8538bd"
      },
      "outputs": [
        {
          "name": "stderr",
          "output_type": "stream",
          "text": [
            "[Stage 29:=====================================================>  (65 + 3) / 68]\r"
          ]
        },
        {
          "name": "stdout",
          "output_type": "stream",
          "text": [
            "+--------------------+\n",
            "|count(category_code)|\n",
            "+--------------------+\n",
            "|                 271|\n",
            "+--------------------+\n",
            "\n"
          ]
        },
        {
          "name": "stderr",
          "output_type": "stream",
          "text": [
            "                                                                                \r"
          ]
        }
      ],
      "source": [
        "df.drop_duplicates(subset=['category_id']).select(f.count(\"category_code\")).show()"
      ]
    },
    {
      "cell_type": "code",
      "execution_count": 13,
      "metadata": {
        "colab": {
          "background_save": true
        },
        "id": "rPRSJgcG47fT",
        "outputId": "cabab427-bf93-4355-9a2b-c97212890e8d"
      },
      "outputs": [
        {
          "name": "stderr",
          "output_type": "stream",
          "text": [
            "[Stage 35:=====================================================>  (65 + 3) / 68]\r"
          ]
        },
        {
          "name": "stdout",
          "output_type": "stream",
          "text": [
            "+-----------------------------+\n",
            "|count(DISTINCT category_code)|\n",
            "+-----------------------------+\n",
            "|                          128|\n",
            "+-----------------------------+\n",
            "\n"
          ]
        },
        {
          "name": "stderr",
          "output_type": "stream",
          "text": [
            "                                                                                \r"
          ]
        }
      ],
      "source": [
        "df.select(f.countDistinct(\"category_code\")).show()\n"
      ]
    },
    {
      "cell_type": "code",
      "execution_count": 14,
      "metadata": {
        "colab": {
          "background_save": true
        },
        "id": "-XskR8Ca47fT",
        "outputId": "36a25cca-6ea4-4bd6-f369-a8a1e9cf8e70"
      },
      "outputs": [
        {
          "name": "stderr",
          "output_type": "stream",
          "text": [
            "[Stage 41:=====================================================>  (65 + 3) / 68]\r"
          ]
        },
        {
          "name": "stdout",
          "output_type": "stream",
          "text": [
            "+-----------------------+\n",
            "|count(DISTINCT user_id)|\n",
            "+-----------------------+\n",
            "|                1831790|\n",
            "+-----------------------+\n",
            "\n"
          ]
        },
        {
          "name": "stderr",
          "output_type": "stream",
          "text": [
            "                                                                                \r"
          ]
        }
      ],
      "source": [
        "df.select(f.countDistinct(\"user_id\")).show()"
      ]
    },
    {
      "cell_type": "code",
      "execution_count": 15,
      "metadata": {
        "colab": {
          "background_save": true
        },
        "id": "deTROgj947fU",
        "outputId": "fc53dc88-7298-48a7-bcbe-6603417be772"
      },
      "outputs": [
        {
          "name": "stderr",
          "output_type": "stream",
          "text": [
            "[Stage 47:=====================================================>  (65 + 3) / 68]\r"
          ]
        },
        {
          "name": "stdout",
          "output_type": "stream",
          "text": [
            "+----------------------------+\n",
            "|count(DISTINCT user_session)|\n",
            "+----------------------------+\n",
            "|                     4245031|\n",
            "+----------------------------+\n",
            "\n"
          ]
        },
        {
          "name": "stderr",
          "output_type": "stream",
          "text": [
            "                                                                                \r"
          ]
        }
      ],
      "source": [
        "df.select(f.countDistinct(\"user_session\")).show()"
      ]
    },
    {
      "cell_type": "code",
      "execution_count": 16,
      "metadata": {
        "colab": {
          "base_uri": "https://localhost:8080/",
          "height": 406
        },
        "id": "jZG0xx6s47fU",
        "outputId": "c2a69b99-e6c1-4cac-b96f-efc732915123"
      },
      "outputs": [
        {
          "name": "stderr",
          "output_type": "stream",
          "text": [
            "                                                                                \r"
          ]
        },
        {
          "data": {
            "text/plain": [
              "<Axes: xlabel='date'>"
            ]
          },
          "execution_count": 16,
          "metadata": {},
          "output_type": "execute_result"
        },
        {
          "data": {
            "image/png": "[encoded data removed]",
            "text/plain": [
              "<Figure size 800x400 with 1 Axes>"
            ]
          },
          "metadata": {},
          "output_type": "display_data"
        }
      ],
      "source": [
        "# Plot the daily number of sessions\n",
        "\n",
        "df = df.withColumn('event_time', to_timestamp('event_time'))\n",
        "df = df.withColumn('date', date_format(\"event_time\", \"yyyy-MM-dd\"))\n",
        "\n",
        "sessions_spark = df.groupBy('date').agg(countDistinct('user_session').alias('num_sessions'))\n",
        "\n",
        "output_path = './sessions_output'\n",
        "sessions_spark.coalesce(1).write.csv(output_path, header=True, mode='overwrite')\n",
        "\n",
        "csv_files = glob.glob(os.path.join(output_path, '*.csv'))\n",
        "\n",
        "if len(csv_files) == 1:\n",
        "    csv_file = csv_files[0]\n",
        "else:\n",
        "    raise ValueError(\"There should be exactly one CSV file in the output directory.\")\n",
        "\n",
        "sessions = pd.read_csv(csv_file)\n",
        "sessions.sort_values('date').plot(x='date', y='num_sessions', figsize=(8, 4))"
      ]
    },
    {
      "cell_type": "markdown",
      "metadata": {
        "id": "tbIFUDaX47fU"
      },
      "source": [
        "<font size=3>O número de sessões aumentou sensivelmente entre 15 e 18 de novembro, o que pode ser atribuído a uma campanha publicitária ou atividade promocional."
      ]
    },
    {
      "cell_type": "code",
      "execution_count": 17,
      "metadata": {
        "id": "Y8D6GBtA47fU",
        "scrolled": true
      },
      "outputs": [],
      "source": [
        "# Número de interações entre usuários e produtos, classificados por carrinhos\n",
        "\n",
        "interactions = df.groupby(['user_id', 'product_id']).agg(sum(when(df['event_type'] == 'view', 1)).alias('views'),\n",
        "                                                         sum(when(df['event_type'] == 'cart', 1)).alias('carts'),\n",
        "                                                         sum(when(df['event_type'] == 'purchase', 1)).alias('purchases'))"
      ]
    },
    {
      "cell_type": "code",
      "execution_count": 18,
      "metadata": {
        "colab": {
          "base_uri": "https://localhost:8080/"
        },
        "id": "S1cO2EU_O8IP",
        "outputId": "d26788ed-42d6-4cbe-d4bc-861c98737c12"
      },
      "outputs": [
        {
          "name": "stderr",
          "output_type": "stream",
          "text": [
            "[Stage 61:>                                                         (0 + 8) / 9]\r"
          ]
        },
        {
          "name": "stdout",
          "output_type": "stream",
          "text": [
            "+---------+----------+-----+-----+---------+\n",
            "|  user_id|product_id|views|carts|purchases|\n",
            "+---------+----------+-----+-----+---------+\n",
            "|512875426|  15300303|    1|   76|     NULL|\n",
            "|521558076|   1005008|    1|   44|     NULL|\n",
            "|571769879|  12720043| NULL|   39|     NULL|\n",
            "|515642515|  13101546|    1|   22|     NULL|\n",
            "|564808105|   1002633|    4|   21|     NULL|\n",
            "|513824664|   3601489|    2|   21|     NULL|\n",
            "|515911561|   1004858| NULL|   21|     NULL|\n",
            "|564068124|   1004767|   19|   20|       19|\n",
            "|553080959|  17200721|    1|   20|     NULL|\n",
            "|564068124|   1004833|   27|   19|       15|\n",
            "|571683521|   1004870|    2|   18|     NULL|\n",
            "|536564855|   1005100| NULL|   18|     NULL|\n",
            "|568461370|   3600661|    3|   18|     NULL|\n",
            "|549030056|   1004856|   14|   18|        8|\n",
            "|538042220|  12720092|    1|   17|     NULL|\n",
            "|513754375|  50600004| NULL|   17|     NULL|\n",
            "|517587461|   1005116|    1|   17|        1|\n",
            "|557590749|   8800045| NULL|   16|     NULL|\n",
            "|559057489|   3700912|    1|   16|     NULL|\n",
            "|515212485|   3600661|    1|   16|     NULL|\n",
            "+---------+----------+-----+-----+---------+\n",
            "only showing top 20 rows\n",
            "\n"
          ]
        },
        {
          "name": "stderr",
          "output_type": "stream",
          "text": [
            "                                                                                \r"
          ]
        }
      ],
      "source": [
        "interactions.sort('carts', ascending=False).show()"
      ]
    },
    {
      "cell_type": "markdown",
      "metadata": {
        "id": "jPXHKm9Z47fU"
      },
      "source": [
        "<font size=3>Os dados revelam um número significativo de pares usuário-produto com um grande número de carrinhos, mas muito poucas visualizações e compras.\n",
        "\n",
        "<font size=3>Uma análise mais aprofundada mostra que muitos desses eventos de carrinho ocorreram durante a mesma sessão, o que pode ser devido aos usuários adicionarem e removerem repetidamente o produto.\n",
        "\n",
        "<font size=3>No entanto, os dados não contêm informações sobre eventos de remoção do carrinho, portanto, devemos restringir o número de carrinhos a um por sessão para cada par usuário-produto."
      ]
    },
    {
      "cell_type": "markdown",
      "metadata": {
        "id": "TKCZ1HgY47fU"
      },
      "source": [
        "## Preprocess"
      ]
    },
    {
      "cell_type": "code",
      "execution_count": 19,
      "metadata": {
        "id": "gOZajyR247fU"
      },
      "outputs": [],
      "source": [
        "def preprocess(df):\n",
        "    df = df.withColumn('event_time', to_timestamp('event_time'))\n",
        "    df = df.withColumn('user_id', col('user_id').cast('integer'))\n",
        "    df = df.withColumn('product_id', col('product_id').cast('integer'))\n",
        "    df = df.withColumn('category_id', col('category_id').cast('long'))\n",
        "\n",
        "    # Limita o número de carrinhos a 1 por sessão para cada par usuário-produto\n",
        "    cart_df = df.filter(col('event_type') == 'cart')\n",
        "    df = df.filter(col('event_type') != 'cart')\n",
        "    cart_df = cart_df.dropDuplicates(subset=['product_id', 'user_id', 'user_session'])\n",
        "    df = df.union(cart_df)\n",
        "\n",
        "    # Divida os códigos de categoria em subcategorias\n",
        "    df = df.withColumn('category', split(df['category_code'], '\\.').getItem(0)) \\\n",
        "       .withColumn('sub_category', split(df['category_code'], '\\.').getItem(1)) \\\n",
        "       .withColumn('sub_sub_category', split(df['category_code'], '\\.').getItem(2))\n",
        "\n",
        "    return df"
      ]
    },
    {
      "cell_type": "code",
      "execution_count": 20,
      "metadata": {
        "colab": {
          "base_uri": "https://localhost:8080/"
        },
        "id": "VyN6QSJ747fV",
        "outputId": "d5e36ce3-9769-409d-bf64-53e2d7c25d86"
      },
      "outputs": [
        {
          "name": "stdout",
          "output_type": "stream",
          "text": [
            "root\n",
            " |-- event_time: timestamp (nullable = true)\n",
            " |-- event_type: string (nullable = true)\n",
            " |-- product_id: integer (nullable = true)\n",
            " |-- category_id: long (nullable = true)\n",
            " |-- category_code: string (nullable = true)\n",
            " |-- brand: string (nullable = true)\n",
            " |-- price: string (nullable = true)\n",
            " |-- user_id: integer (nullable = true)\n",
            " |-- user_session: string (nullable = true)\n",
            " |-- date: string (nullable = true)\n",
            " |-- category: string (nullable = true)\n",
            " |-- sub_category: string (nullable = true)\n",
            " |-- sub_sub_category: string (nullable = true)\n",
            "\n"
          ]
        }
      ],
      "source": [
        "df = preprocess(df)\n",
        "df.printSchema()"
      ]
    },
    {
      "cell_type": "markdown",
      "metadata": {
        "id": "Ys9avhjg47fV"
      },
      "source": [
        "## Feature Engineering"
      ]
    },
    {
      "cell_type": "markdown",
      "metadata": {
        "id": "tOJrhLP847fZ"
      },
      "source": [
        "<font size=3>Podemos extrair diversas características para usuários, produtos e categorias usando os dados comportamentais:\n",
        "\n",
        "\n",
        "- Visualizações/carrinhos/compras: o número de vezes que um usuário interagiu com um produto.\n",
        "\n",
        "\n",
        "- Produtos distintos visualizados/colocados no carrinho/comprados: o número de produtos exclusivos que um usuário visualizou, adicionou ao carrinho ou comprou.\n",
        "\n",
        "\n",
        "- Preço médio (relativo) visualizado/comprado: O preço médio dos produtos que um usuário visualizou ou comprou.\n",
        "\n",
        "\n",
        "- Taxas de interação: são recursos derivados que fornecem insights sobre o comportamento dos usuários, como taxa de compra por visualização, carrinho por visualização e compra por carrinho."
      ]
    },
    {
      "cell_type": "code",
      "execution_count": 21,
      "metadata": {
        "id": "67-jJFz747fZ"
      },
      "outputs": [],
      "source": [
        "def product_features(df):\n",
        "\n",
        "    # Calcula métricas para produtos com a função agregada\n",
        "    df = df.groupby('product_id').agg(first('category_id').alias('category_id'),\n",
        "                                      first('category_code').alias('category_code'),\n",
        "                                      count(when(df['event_type'] == 'view', True)).alias('views'),\n",
        "                                      count(when(df['event_type'] == 'cart', True)).alias('carts'),\n",
        "                                      count(when(df['event_type'] == 'purchase', True)).alias('purchases'),\n",
        "                                      mean('price').alias('price'),\n",
        "                                      min('event_time').alias('first_date'),\n",
        "                                      max('event_time').alias('last_date'))\n",
        "\n",
        "    # Calculate interaction rates\n",
        "    df = df.withColumn('purchase_per_view', df['purchases'] / df['views'])\n",
        "    df = df.withColumn('cart_per_view', df['carts'] / df['views'])\n",
        "    df = df.withColumn('purchase_per_cart', when(df['carts'] == 0, df['purchases']).otherwise(df['purchases'] / df['carts']))\n",
        "\n",
        "    return df"
      ]
    },
    {
      "cell_type": "code",
      "execution_count": 22,
      "metadata": {
        "id": "uGYMn-1l47fZ"
      },
      "outputs": [],
      "source": [
        "def category_features(df):\n",
        "\n",
        "    # Calcule o preço médio do produto para cada categoria\n",
        "    products = df.dropDuplicates(subset=['product_id'])\n",
        "    products = products.groupby('category_id').agg(avg('price').alias('average_price'))\n",
        "\n",
        "    # Calcule métricas para categorias com a função agregada\n",
        "    df = df.groupby('category_id').agg(first('category_code').alias('category_code'),\n",
        "                                       countDistinct('product_id').alias('number_of_products'),\n",
        "                                       count(when(df['event_type'] == 'view', True)).alias('views'),\n",
        "                                       count(when(df['event_type'] == 'cart', True)).alias('carts'),\n",
        "                                       count(when(df['event_type'] == 'purchase', True)).alias('purchases'))\n",
        "\n",
        "    # Calcula rates de interação\n",
        "    df = df.withColumn('purchase_per_view', df['purchases'] / df['views'])\n",
        "    df = df.withColumn('cart_per_view', df['carts'] / df['views'])\n",
        "    df = df.withColumn('purchase_per_cart', when(df['carts'] == 0, df['purchases']).otherwise(df['purchases'] / df['carts']))\n",
        "\n",
        "    df = df.join(products, on='category_id')\n",
        "\n",
        "    return df"
      ]
    },
    {
      "cell_type": "code",
      "execution_count": 23,
      "metadata": {
        "id": "8j6GXKjl47fa"
      },
      "outputs": [],
      "source": [
        "def user_features(df):\n",
        "\n",
        "    # Calcule métricas para categorias com a função agregada\n",
        "    df = df.groupby('user_id').agg(count(when(df['event_type'] == 'view', True)).alias('views'),\n",
        "                                   count(when(df['event_type'] == 'cart', True)).alias('carts'),\n",
        "                                   count(when(df['event_type'] == 'purchase', True)).alias('purchases'),\n",
        "                                   countDistinct(when(df['event_type'] == 'view', col('product_id'))).alias('distinct_products_viewed'),\n",
        "                                   countDistinct(when(df['event_type'] == 'cart', col('product_id'))).alias('distinct_products_carted'),\n",
        "                                   countDistinct(when(df['event_type'] == 'purchase', col('product_id'))).alias('distinct_products_purchased'),\n",
        "                                   mean(when(df['event_type'] == 'view', col('price'))).alias('average_price_viewed'),\n",
        "                                   mean(when(df['event_type'] == 'purchase', col('price'))).alias('average_price_purchased'),\n",
        "                                   mean(when(df['event_type'] == 'view', col('relative_price'))).alias('avg_relative_price_viewed'),\n",
        "                                   mean(when(df['event_type'] == 'purchase', col('relative_price'))).alias('avg_relative_price_purchased'),\n",
        "                                   min('event_time').alias('first_date'),\n",
        "                                   max('event_time').alias('last_date'))\n",
        "\n",
        "    # Calcula rates de interação\n",
        "    df = df.withColumn('purchase_per_view', when(df['views'] == 0, df['purchases']).otherwise(df['purchases'] / df['views']))\n",
        "    df = df.withColumn('cart_per_view', when(df['views'] == 0, df['carts']).otherwise(df['carts'] / df['views']))\n",
        "    df = df.withColumn('purchase_per_cart', when(df['carts'] == 0, df['purchases']).otherwise(df['purchases'] / df['carts']))\n",
        "\n",
        "    return df"
      ]
    },
    {
      "cell_type": "markdown",
      "metadata": {
        "id": "vteZDyKx47fa"
      },
      "source": [
        "<font size=3>Alguns produtos e categorias têm muito poucas interações, o que torna suas taxas de interação pouco confiáveis. Por exemplo, um produto que foi visualizado apenas 2 vezes e comprado 1 vez teria uma taxa de compra por visualização de 0,5, o que é muito alto. Portanto, é importante aplicar suavização para evitar overfitting em amostras pequenas.\n",
        "\n",
        "<font size=3>A suavização funciona calculando uma média ponderada da taxa do produto e da categoria. O peso dado à taxa do produto depende do número de interações, com mais peso dado à taxa do produto à medida que o número de interações aumenta. A mesma suavização também é aplicada às categorias, usando as taxas médias gerais de interação."
      ]
    },
    {
      "cell_type": "code",
      "execution_count": 24,
      "metadata": {
        "id": "2BQGypLx47fa"
      },
      "outputs": [],
      "source": [
        "# Calcule taxas suavizadas para categorias com tamanho de amostra pequeno usando médias de todos os produtos para combater o overfitting\n",
        "\n",
        "def category_smoothener(categories, mean, attr, rate, min_sample_size=1000):\n",
        "\n",
        "    # Média ponderada do valor da categoria e média geral\n",
        "    categories = categories.withColumn(rate, when(categories[attr] < min_sample_size, ((categories[rate] * categories[attr]) + (mean * (min_sample_size - categories[attr]))) / min_sample_size).otherwise(categories[rate]))\n",
        "\n",
        "    return categories"
      ]
    },
    {
      "cell_type": "code",
      "execution_count": 25,
      "metadata": {
        "id": "8_WtnhoC47fa"
      },
      "outputs": [],
      "source": [
        "# Calcule taxas suavizadas para produtos com tamanho de amostra pequeno usando meios de categoria para combater o overfitting\n",
        "\n",
        "def product_smoothener(products, categories, attr, rate, min_sample_size=1000):\n",
        "\n",
        "    category_rate = rate + '_cat'\n",
        "    categories = categories.withColumnRenamed(rate, category_rate)\n",
        "    products = products.join(categories['category_id', category_rate], on='category_id')\n",
        "\n",
        "    # Média ponderada do valor do produto e valor da categoria\n",
        "    products = products.withColumn(rate, when(products[attr] < min_sample_size, ((products[rate] * products[attr]) + (products[category_rate] * (min_sample_size - products[attr]))) / min_sample_size).otherwise(products[rate]))\n",
        "\n",
        "    products = products.drop(category_rate)\n",
        "    return products"
      ]
    },
    {
      "cell_type": "markdown",
      "metadata": {
        "id": "kPV3sPa247fb"
      },
      "source": [
        "<font size=3>Devemos calcular o preço relativo de cada produto em relação à sua categoria, escalonando seu preço com base na mediana e na faixa interquartil dos preços da categoria. A mediana é utilizada como medida de tendência central e o IIQ como medida de variabilidade.\n",
        "\n",
        "<font size=3>Essa escala considera diferenças nas faixas de preços entre categorias, permitindo-nos comparar preços de produtos entre categorias com mais precisão e sem preconceitos. Os preços relativos serão usados ​​para determinar se os usuários têm tendência a interagir com produtos mais baratos ou mais caros."
      ]
    },
    {
      "cell_type": "code",
      "execution_count": 26,
      "metadata": {
        "id": "dOodnSQl47fb"
      },
      "outputs": [],
      "source": [
        "# Calcule o preço de cada produto em relação à sua categoria usando a fórmula: (preço - mediana) / IQR\n",
        "\n",
        "def calculate_relative_price(products):\n",
        "\n",
        "    categories = products.groupby('category_id').agg(percentile_approx('price', 0.25, 1000).alias('Q1'),\n",
        "                                                     percentile_approx('price', 0.5, 1000).alias('median'),\n",
        "                                                     percentile_approx('price', 0.75, 1000).alias('Q3'))\n",
        "    # Interquartile range\n",
        "    categories = categories.withColumn('IQR', col('Q3') - col('Q1'))\n",
        "    categories = categories.withColumn('IQR', when(col('IQR') < 1, 1).otherwise(col('IQR')))\n",
        "\n",
        "    # Calculando preco relativo\n",
        "    products = products.join(categories, on='category_id')\n",
        "    products = products.withColumn('relative_price', (col('price') - col('median')) / col('IQR'))\n",
        "\n",
        "    # Para evitar valores extremos, defina o valor máximo possível para 5 - Evitando influencia de outliers\n",
        "    products = products.withColumn('relative_price', when(col('relative_price') > 5, 5).otherwise(col('relative_price')))\n",
        "\n",
        "    # Define o valor mínimo para -5\n",
        "    products = products.withColumn('relative_price', when(col('relative_price') < -5, -5).otherwise(col('relative_price')))\n",
        "\n",
        "    products = products.select('product_id', 'relative_price')\n",
        "    return products"
      ]
    },
    {
      "cell_type": "code",
      "execution_count": 27,
      "metadata": {
        "id": "NDXI_iVc47fb"
      },
      "outputs": [],
      "source": [
        "products = product_features(df)\n",
        "categories = category_features(df)"
      ]
    },
    {
      "cell_type": "code",
      "execution_count": 28,
      "metadata": {
        "id": "AyjmHxZ147fb"
      },
      "outputs": [],
      "source": [
        "# Calculando os preços relativos e anexando-os ao df principal e aos recursos do produto\n",
        "\n",
        "relative_prices = calculate_relative_price(products)\n",
        "\n",
        "df = df.join(relative_prices, on='product_id')\n",
        "products = products.join(relative_prices, on='product_id')"
      ]
    },
    {
      "cell_type": "code",
      "execution_count": 29,
      "metadata": {
        "id": "IMiy3Gdo47fb"
      },
      "outputs": [],
      "source": [
        "# Calculando as taxas médias de interação para todos os produtos para suavizar os recursos da categoria com baixa interação\n",
        "\n",
        "avg_purchase_per_view = events[events['event_type'] == 'purchase']['count'].values[0] / events[events['event_type'] == 'view']['count'].values[0]\n",
        "avg_cart_per_view = events[events['event_type'] == 'cart']['count'].values[0] / events[events['event_type'] == 'view']['count'].values[0]\n",
        "avg_purchase_per_cart = events[events['event_type'] == 'purchase']['count'].values[0] / events[events['event_type'] == 'cart']['count'].values[0]\n",
        "\n",
        "categories = category_smoothener(categories, avg_purchase_per_view, 'views', 'purchase_per_view', 2000)\n",
        "categories = category_smoothener(categories, avg_cart_per_view, 'views', 'cart_per_view', 2000)\n",
        "categories = category_smoothener(categories, avg_purchase_per_cart, 'carts', 'purchase_per_cart', 200)"
      ]
    },
    {
      "cell_type": "code",
      "execution_count": 30,
      "metadata": {
        "id": "VL48yqa-47fb"
      },
      "outputs": [],
      "source": [
        "# Recursos de produto suavizados com baixa interação usando recursos de categoria correspondentes\n",
        "\n",
        "products = product_smoothener(products, categories, 'views', 'purchase_per_view', 1000)\n",
        "products = product_smoothener(products, categories, 'views', 'cart_per_view', 1000)\n",
        "products = product_smoothener(products, categories, 'carts', 'purchase_per_cart', 100)"
      ]
    },
    {
      "cell_type": "code",
      "execution_count": 31,
      "metadata": {
        "id": "dWBssmIC47fc"
      },
      "outputs": [],
      "source": [
        "users = user_features(df)"
      ]
    },
    {
      "cell_type": "code",
      "execution_count": 32,
      "metadata": {
        "colab": {
          "base_uri": "https://localhost:8080/",
          "height": 521
        },
        "id": "EwWBz0cJ47fc",
        "outputId": "6c03b482-5e8b-4ab4-e65c-71787575f237"
      },
      "outputs": [
        {
          "data": {
            "text/plain": [
              "DataFrame[category_id: bigint, product_id: int, category_code: string, views: bigint, carts: bigint, purchases: bigint, price: double, first_date: timestamp, last_date: timestamp, purchase_per_view: double, cart_per_view: double, purchase_per_cart: double, relative_price: double]"
            ]
          },
          "execution_count": 32,
          "metadata": {},
          "output_type": "execute_result"
        }
      ],
      "source": [
        "products.sort('purchases', ascending=False)\n",
        "#products.sort('purchases', ascending=False).toPandas()"
      ]
    },
    {
      "cell_type": "markdown",
      "metadata": {
        "id": "J7TzA6W-47fc"
      },
      "source": [
        "## Collaborative Filtering"
      ]
    },
    {
      "cell_type": "markdown",
      "metadata": {
        "id": "s6DfBf1w47fc"
      },
      "source": [
        "<font size=3>A filtragem colaborativa é uma técnica usada em sistemas de recomendação para fornecer recomendações personalizadas aos usuários com base em suas interações anteriores com itens, bem como nas interações de usuários semelhantes. A matriz de interação contém informações sobre quais usuários interagiram com quais itens e em que grau.\n",
        "    \n",
        "<font size=3>O algoritmo Alternating Least Squares é uma abordagem para filtragem colaborativa que pode ser usada para treinar um modelo nesta matriz de interação. O modelo aprende fatores latentes tanto para usuários quanto para itens, que podem então ser usados ​​para fazer recomendações personalizadas e encontrar produtos semelhantes.\n",
        "    \n",
        "<font size=3>Deveríamos aplicar uma função de ponderação às interações com base na atualidade. Isso ocorre porque as interações recentes costumam ser mais indicativas das preferências atuais do usuário do que as interações mais antigas. Podemos usar uma função de decaimento de meia-vida, onde o peso dado a uma interação diminui pela metade após um determinado intervalo de tempo (20 dias). Ao ponderar mais as interações mais recentes, o algoritmo pode fornecer recomendações mais relevantes aos usuários."
      ]
    },
    {
      "cell_type": "code",
      "execution_count": 56,
      "metadata": {
        "colab": {
          "base_uri": "https://localhost:8080/",
          "height": 449
        },
        "id": "AloY1ZL647fc",
        "outputId": "8d28af12-ba04-42a8-8c6a-611ad2501760"
      },
      "outputs": [
        {
          "data": {
            "image/png": "[encoded data removed]",
            "text/plain": [
              "<Figure size 640x480 with 1 Axes>"
            ]
          },
          "metadata": {},
          "output_type": "display_data"
        }
      ],
      "source": [
        "# Função de decaimento da meia-vida\n",
        "\n",
        "half_life = 20\n",
        "x = np.arange(0, 100)\n",
        "y = np.power(0.5, x / half_life)\n",
        "df2 = pd.DataFrame({'Dias': x, 'Peso': y})\n",
        "\n",
        "ax = df2.plot(x='Dias', y='Peso')\n",
        "\n",
        "ax.set_yticks([0, 0.25, 0.5, 0.75, 1])\n",
        "ax.axvline(x=20, linestyle='--', color='gray', ymax=0.49)\n",
        "ax.axvline(x=40, linestyle='--', color='gray', ymax=0.25)\n",
        "ax.axhline(y=0.5, linestyle='--', color='gray', xmax=0.23)\n",
        "ax.axhline(y=0.25, linestyle='--', color='gray', xmax=0.41)\n",
        "ax.text(20, 0.4, 'Meia Vida', ha='center')\n",
        "ax.text(40, 0.15, '2x Meia Vida', ha='center')\n",
        "\n",
        "plt.show()"
      ]
    },
    {
      "cell_type": "code",
      "execution_count": 34,
      "metadata": {
        "id": "rGZb767a47fc",
        "scrolled": true
      },
      "outputs": [
        {
          "name": "stderr",
          "output_type": "stream",
          "text": [
            "                                                                                \r"
          ]
        }
      ],
      "source": [
        "# Obtenha o timestamp de data/hora do evento mais recente no df\n",
        "last_date = df.select(f.max('event_time')).collect()[0][0]\n",
        "df = df.withColumn('last_date', f.lit(last_date))\n",
        "\n",
        "# Calcule a atualidade de cada evento em termos de dias\n",
        "df = df.withColumn('recency', (f.col('last_date').cast('double') - f.col('event_time').cast('double')) / 86400) # 86400 segundos = 24 horas\n",
        "df = df.drop('last_date')\n",
        "\n",
        "# Função de decaimento de meia-vida - o valor de um evento é reduzido pela metade após 20 dias\n",
        "df = df.withColumn('recency_coef', f.expr('exp(ln(0.5)*recency/20)'))"
      ]
    },
    {
      "cell_type": "code",
      "execution_count": 35,
      "metadata": {
        "id": "_t3nlyFA47fd"
      },
      "outputs": [],
      "source": [
        "# Número de visualizações, carrinhos e compras para cada par usuário-produto\n",
        "interactions = df.groupby(['user_id', 'product_id']).agg(sum(when(df['event_type'] == 'view', 1) * df['recency_coef']).alias('views'),\n",
        "                                                         sum(when(df['event_type'] == 'cart', 1) * df['recency_coef']).alias('carts'),\n",
        "                                                         sum(when(df['event_type'] == 'purchase', 1) * df['recency_coef']).alias('purchases'))\n",
        "interactions = interactions.na.fill(0)"
      ]
    },
    {
      "cell_type": "markdown",
      "metadata": {
        "id": "0lTaPYaP47fd"
      },
      "source": [
        "<font size=3>A matriz de interação é calculada atribuindo pesos a cada tipo de interação do usuário. Essas interações ponderadas são então somadas para obter a pontuação total da interação, que foi sujeita a uma função de decaimento de meia-vida para dar mais peso às interações recentes. Finalmente, os valores são transformados tomando o logaritmo com base 10 e limitando o valor máximo a 100 para garantir escalabilidade e consistência, ao mesmo tempo que elimina valores de outliers. A matriz resultante fornece uma medida da força do relacionamento entre usuários e produtos."
      ]
    },
    {
      "cell_type": "code",
      "execution_count": 36,
      "metadata": {
        "id": "ptjRMAcb47fd"
      },
      "outputs": [],
      "source": [
        "def calculate_interaction_matrix(df, view_weight=0.1, cart_weight=0.3, purchase_weight=1.0):\n",
        "\n",
        "    # Crie uma nova coluna com o valor de interação ponderado\n",
        "    df = df.withColumn('interaction', view_weight * col('views') + cart_weight * col('carts') + purchase_weight * col('purchases'))\n",
        "\n",
        "    # Use o valor log10 para visualizações, carrinhos e compras\n",
        "    df = df.withColumn('interaction', log10(col('interaction') + 1))\n",
        "\n",
        "    # Defina o valor máximo possível para 100 (log100 = 2)\n",
        "    df = df.withColumn('interaction', when(col('interaction') > 2, 2).otherwise(col('interaction')))\n",
        "\n",
        "    return df"
      ]
    },
    {
      "cell_type": "code",
      "execution_count": 37,
      "metadata": {
        "id": "VQ7krFMM47fd",
        "scrolled": true
      },
      "outputs": [],
      "source": [
        "interaction_matrix = calculate_interaction_matrix(interactions)"
      ]
    },
    {
      "cell_type": "code",
      "execution_count": 38,
      "metadata": {
        "colab": {
          "base_uri": "https://localhost:8080/"
        },
        "id": "Iqkrq-QP47fd",
        "outputId": "70c4d497-b939-4551-b479-c37852e1f7f4"
      },
      "outputs": [
        {
          "name": "stderr",
          "output_type": "stream",
          "text": [
            "[Stage 127:>                                                        (0 + 8) / 9]\r"
          ]
        },
        {
          "name": "stdout",
          "output_type": "stream",
          "text": [
            "+---------+----------+------------------+------------------+------------------+------------------+\n",
            "|  user_id|product_id|             views|             carts|         purchases|       interaction|\n",
            "+---------+----------+------------------+------------------+------------------+------------------+\n",
            "|543128872|   4804056|12.207319907787578| 6.350878846100495|13.566408609596607|1.2477868540168617|\n",
            "|564068124|   1004767| 9.409194066085044| 8.493953105418917| 9.195022822534632|1.1362171329826278|\n",
            "|518514099|   1005116|10.701412636919633| 4.396691063362743| 9.422111014877174| 1.107591831492107|\n",
            "|513637414|   1004750|   8.0982070386193| 4.857399242716663| 8.912779204558994|1.0856408587382433|\n",
            "|564068124|   1004833|12.571644064718809| 7.157168545931923| 6.874840533765673|1.0522765842505963|\n",
            "|552639168|   4100346|16.347512089224168| 8.072243071616285|  6.20146270514749|1.0514568788115601|\n",
            "|578710393|  16700764|2.8460524501896978| 5.744923890790875| 7.712717681446595|1.0302271979793014|\n",
            "|521230795|   1005115| 9.824735792821855| 6.495457739021388| 4.947792091018382|0.9483593110546813|\n",
            "|559369741|   1005168|10.496120293428827| 4.511171181826992| 5.413993998628591|0.9453187415996569|\n",
            "|541385001|   1005113| 7.997788228835505|  5.92910766643384| 5.196426048248384|0.9432440155813118|\n",
            "|512842822|   1304410| 5.989983054477228| 6.190569652007463| 5.288445125114648|0.9417406600454437|\n",
            "|539959029|   1307545|  4.24583376098207| 6.104488560687603|5.4541467691934935|0.9400219800480931|\n",
            "|549030056|   1004856| 9.221462894637112| 9.613299722225461| 3.849668299554231|0.9373074391833861|\n",
            "|561787183|   1005168|  9.10497739440752| 2.753583854859365|5.9099874908627195|0.9368433788950008|\n",
            "|514416740|   1701356|6.3456746432976265|0.8239392950298512|6.5919442864881646| 0.928072753199786|\n",
            "|549385752|   4804056|11.809357134149629| 4.529540290340872| 4.528536375082886|0.9067838775939692|\n",
            "|516215468|   4804056| 7.634384972299434|1.9093967507457985| 5.726732525694425|0.9064961237659872|\n",
            "|569794725|   1002547| 5.546528339557408|  7.22130008322328| 4.224456793179977| 0.900121212975499|\n",
            "|534790953|   1004249| 8.284872204591009|4.5664250181462265|   4.6313335442038|0.8937477995214219|\n",
            "|512386086|   1801555| 7.539743822171788|  2.04498250482768| 5.040007218912409|0.8696702737246401|\n",
            "+---------+----------+------------------+------------------+------------------+------------------+\n",
            "only showing top 20 rows\n",
            "\n"
          ]
        },
        {
          "name": "stderr",
          "output_type": "stream",
          "text": [
            "                                                                                \r"
          ]
        }
      ],
      "source": [
        "#  Usuário-produto com as pontuações de interação mais altas\n",
        "\n",
        "interaction_matrix.sort('interaction', ascending=False).show()"
      ]
    },
    {
      "cell_type": "markdown",
      "metadata": {
        "id": "OsdHOGji47fe"
      },
      "source": [
        "<font size=3>Depois de criar uma matriz de interação que quantifica as interações usuário-produto usando pesos, podemos alimentar essa matriz no algoritmo ALS. Este algoritmo usa a matriz para aprender os fatores latentes dos usuários e dos produtos, que podem então ser usados ​​para fazer recomendações personalizadas aos usuários.\n",
        "    \n",
        "<font size=3>Para otimizar o desempenho do algoritmo ALS, podemos usar um pipeline de validação cruzada, que nos permite testar e ajustar diferentes conjuntos de parâmetros para encontrar a melhor configuração para nosso sistema de recomendação. Em última análise, o objetivo é criar um modelo que possa fazer recomendações de produtos precisas e relevantes aos usuários com base em suas interações anteriores com o sistema."
      ]
    },
    {
      "cell_type": "code",
      "execution_count": 39,
      "metadata": {
        "id": "O8O6z5OD47fe"
      },
      "outputs": [],
      "source": [
        "from pyspark.ml.recommendation import ALS\n",
        "from pyspark.ml.evaluation import RegressionEvaluator\n",
        "from pyspark.ml.tuning import CrossValidator, ParamGridBuilder, TrainValidationSplit\n",
        "from pyspark.ml import Pipeline\n",
        "\n",
        "def cross_validate_als(interaction_matrix):\n",
        "    \n",
        "    # Define o Modelo\n",
        "    als = ALS(userCol='user_id', itemCol='product_id', ratingCol='interaction',\n",
        "              nonnegative=True, coldStartStrategy='drop', implicitPrefs=True)\n",
        "    print('Modelo ALS Definido')\n",
        "\n",
        "    # Definir a grade de parâmetros para ajuste de hiperparâmetros\n",
        "    param_grid = ParamGridBuilder() \\\n",
        "        .addGrid(als.rank, [10, 15]) \\\n",
        "        .addGrid(als.regParam, [0.01, 0.05]) \\\n",
        "        .addGrid(als.alpha, [1.0, 5.0]) \\\n",
        "        .build()\n",
        "    print('Grid de parâmetros definido.')\n",
        "\n",
        "    # Definir o avaliador para calcular as métricas de avaliação\n",
        "    evaluator = RegressionEvaluator(metricName='rmse', labelCol='interaction', predictionCol='prediction')\n",
        "    print('Evaluator definido.')\n",
        "    # Definir o validador cruzado para realizar a validação cruzada de 5 vezes\n",
        "    #cv = CrossValidator(estimator=als, estimatorParamMaps=param_grid, evaluator=evaluator, numFolds=3, collectSubModels=False)\n",
        "\n",
        "    tvs = TrainValidationSplit(estimator=als, estimatorParamMaps=param_grid, evaluator=evaluator, trainRatio=0.8)\n",
        "    print('Cross-validator definido.')\n",
        "\n",
        "    # Defina o pipeline para ajustar o modelo e avaliá-lo\n",
        "    pipeline = Pipeline(stages=[tvs])\n",
        "    print('Pipeline definido.')\n",
        "\n",
        "    # Ajuste o pipeline aos dados e avalie o modelo\n",
        "    model = pipeline.fit(interaction_matrix)\n",
        "    print('Model ajustado.')\n",
        "    return model"
      ]
    },
    {
      "cell_type": "code",
      "execution_count": 41,
      "metadata": {
        "id": "FyDP72yC47fe"
      },
      "outputs": [
        {
          "name": "stdout",
          "output_type": "stream",
          "text": [
            "Cross-validating the ALS model...\n",
            "ALS model defined.\n",
            "Parameter grid defined.\n",
            "Evaluator defined.\n",
            "Cross-validator defined.\n",
            "Pipeline defined.\n"
          ]
        },
        {
          "name": "stderr",
          "output_type": "stream",
          "text": [
            "                                                                                \r"
          ]
        },
        {
          "name": "stdout",
          "output_type": "stream",
          "text": [
            "Model fitted.\n"
          ]
        },
        {
          "name": "stderr",
          "output_type": "stream",
          "text": [
            "                                                                                \r"
          ]
        },
        {
          "name": "stdout",
          "output_type": "stream",
          "text": [
            " rmse:0.2055556603734609 mae:0.07851633134978397\n",
            "rank:10 regParam:0.01 alpha:1.0\n"
          ]
        }
      ],
      "source": [
        "model = cross_validate_als(interaction_matrix)\n",
        "\n",
        "# Modelo com menor valor de RMSE\n",
        "bestModel = model.stages[0].bestModel\n",
        "\n",
        "# Predicoes\n",
        "predictions = bestModel.transform(interaction_matrix)\n",
        "\n",
        "# Calcular métricas RMSE e MAE (Métricas de avaliação)\n",
        "evaluator = RegressionEvaluator(metricName='rmse', labelCol='interaction', predictionCol='prediction')\n",
        "rmse = evaluator.setMetricName('rmse').evaluate(predictions)\n",
        "mae = evaluator.setMetricName('mae').evaluate(predictions)\n",
        "print(' rmse:' + str(rmse) + ' mae:' + str(mae))\n",
        "\n",
        "# Printando os parâmetros do modelo com o menor valor de RMSE\n",
        "regParam = bestModel._java_obj.parent().getRegParam()\n",
        "rank = bestModel._java_obj.parent().getRank()\n",
        "alpha = bestModel._java_obj.parent().getAlpha()\n",
        "print('rank:' + str(rank) + ' regParam:' + str(regParam) + ' alpha:' + str(alpha))"
      ]
    },
    {
      "cell_type": "markdown",
      "metadata": {
        "id": "zvDl-LpO47fe"
      },
      "source": [
        "<font size=3>Depois de identificar o melhor conjunto de parâmetros, podemos construir um modelo ALS diretamente, em vez de executar a função de validação cruzada repetidamente. Essa abordagem economiza tempo e recursos, tornando mais eficiente a geração de recomendações de produtos."
      ]
    },
    {
      "cell_type": "code",
      "execution_count": 43,
      "metadata": {
        "colab": {
          "base_uri": "https://localhost:8080/",
          "height": 402
        },
        "id": "cefdB2-h47fe",
        "outputId": "11f6dbc8-dedf-4a2f-a85b-c716e34ee8f4"
      },
      "outputs": [],
      "source": [
        "from pyspark.ml.recommendation import ALS\n",
        "from pyspark.ml.evaluation import RegressionEvaluator\n",
        "\n",
        "def simple_als(interaction_matrix):\n",
        "\n",
        "    # Divisão de dados em treino e teste\n",
        "    (train, test) = interaction_matrix.randomSplit([0.8, 0.2])\n",
        "\n",
        "    # Definir o modelo ALS com hiperparâmetros otimizados\n",
        "    als = ALS(userCol='user_id', itemCol='product_id', ratingCol='interaction',\n",
        "              alpha=1, regParam=0.005, rank=15, implicitPrefs=True,\n",
        "              nonnegative=True, coldStartStrategy='drop')\n",
        "\n",
        "    # Ajustar o modelo ALS aos dados de classificação\n",
        "    model = als.fit(train)\n",
        "\n",
        "    # Predições\n",
        "    predictions = model.transform(test)\n",
        "\n",
        "    # Calcula métricas de RMSE e MAE\n",
        "    evaluator = RegressionEvaluator(metricName='rmse', labelCol='interaction', predictionCol='prediction')\n",
        "    rmse = evaluator.evaluate(predictions)\n",
        "    mae = evaluator.setMetricName('mae').evaluate(predictions)\n",
        "    print('test rmse:' + str(rmse) + ' mae:' + str(mae))\n",
        "\n",
        "    return model"
      ]
    },
    {
      "cell_type": "code",
      "execution_count": 44,
      "metadata": {
        "id": "zIoUwyCy47ff"
      },
      "outputs": [
        {
          "name": "stderr",
          "output_type": "stream",
          "text": [
            "                                                                                \r"
          ]
        },
        {
          "name": "stdout",
          "output_type": "stream",
          "text": [
            "test rmse:0.04803049956400948 mae:0.0340299447288154\n"
          ]
        }
      ],
      "source": [
        "als_model = simple_als(interaction_matrix)"
      ]
    },
    {
      "cell_type": "markdown",
      "metadata": {
        "id": "V6wxWUAl47ff"
      },
      "source": [
        "## Recommend Products for Users"
      ]
    },
    {
      "cell_type": "code",
      "execution_count": 84,
      "metadata": {
        "id": "6lBRziL747ff"
      },
      "outputs": [],
      "source": [
        "# 3 ids de usuários aleatórios\n",
        "user_subset = [565606905, 570112140, 564068124]\n",
        "\n",
        "# Recomendando top 10 produtos para cada usuário\n",
        "recommendations = sc.createDataFrame([(user, 0) for user in user_subset], ['user_id', 'product_id'])\n",
        "recommendations = als_model.recommendForUserSubset(recommendations, 10)"
      ]
    },
    {
      "cell_type": "code",
      "execution_count": 85,
      "metadata": {
        "id": "FgnxSpCE47ff"
      },
      "outputs": [
        {
          "name": "stderr",
          "output_type": "stream",
          "text": [
            "[Stage 11292:======================================>              (66 + 9) / 90]\r"
          ]
        },
        {
          "name": "stdout",
          "output_type": "stream",
          "text": [
            "+---------+--------------------+\n",
            "|  user_id|     recommendations|\n",
            "+---------+--------------------+\n",
            "|565606905|[{1004767, 0.9865...|\n",
            "|570112140|[{1005239, 0.0095...|\n",
            "|564068124|[{1004833, 1.0896...|\n",
            "+---------+--------------------+\n",
            "\n"
          ]
        },
        {
          "name": "stderr",
          "output_type": "stream",
          "text": [
            "                                                                                \r"
          ]
        }
      ],
      "source": [
        "recommendations.show()"
      ]
    },
    {
      "cell_type": "code",
      "execution_count": 86,
      "metadata": {
        "id": "71210jfa47ff"
      },
      "outputs": [
        {
          "name": "stderr",
          "output_type": "stream",
          "text": [
            "                                                                                \r"
          ]
        },
        {
          "name": "stdout",
          "output_type": "stream",
          "text": [
            "+----------+-------------------+\n",
            "|product_id|             rating|\n",
            "+----------+-------------------+\n",
            "|   1004833| 1.0896239280700684|\n",
            "|   1004767| 1.0175837278366089|\n",
            "|   1004856|  1.009300947189331|\n",
            "|   1002544| 1.0079739093780518|\n",
            "|   1005115| 0.9795106649398804|\n",
            "|   1005239|0.30297431349754333|\n",
            "|   1004873|0.26436281204223633|\n",
            "|   4804718|0.24167221784591675|\n",
            "|   1004870| 0.2313843071460724|\n",
            "|   1004836|0.17872895300388336|\n",
            "+----------+-------------------+\n",
            "\n"
          ]
        }
      ],
      "source": [
        "# Usuário com ID 564068124\n",
        "\n",
        "recs_for_user_1 = sc.createDataFrame(recommendations.collect()[2][1])\n",
        "#recs_for_user_1 = sc.createDataFrame(recommendations.collect()[0][1])\n",
        "\n",
        "recs_for_user_1.show()"
      ]
    },
    {
      "cell_type": "code",
      "execution_count": 75,
      "metadata": {
        "id": "S1Kg6VTJ47ff"
      },
      "outputs": [
        {
          "name": "stderr",
          "output_type": "stream",
          "text": [
            "                                                                                \r"
          ]
        },
        {
          "name": "stdout",
          "output_type": "stream",
          "text": [
            "+---------+----------+-------------------+-------------------+-------------------+\n",
            "|  user_id|product_id|              views|              carts|          purchases|\n",
            "+---------+----------+-------------------+-------------------+-------------------+\n",
            "|564068124|   1004767|  9.409194066085044|   8.49395310541892|  9.195022822534632|\n",
            "|564068124|   1004833| 12.571644064718809|  7.157168545931923|  6.874840533765673|\n",
            "|564068124|   1004856|  1.606901882144161| 0.5656631308614644| 0.9481385502372464|\n",
            "|564068124|   1005115| 1.1468325283454863|0.37688799706301856| 0.7700504564889128|\n",
            "|564068124|   1004873| 1.1258507956876596| 0.4554657108700836| 0.7509968187093987|\n",
            "|564068124|   1201465|                0.0|                0.0|0.45516946862820207|\n",
            "|564068124|   1307310|0.36202084534411477|0.36202258794364384|0.45514135207024364|\n",
            "|564068124|   1004875|                0.0| 0.4527087487670014| 0.4436525958044613|\n",
            "|564068124|   1004320|                0.0|                0.0|0.41780163587193986|\n",
            "|564068124|   1004404|                0.0|                0.0| 0.4148084996340592|\n",
            "|564068124|   1003499|                0.0|                0.0| 0.4147757219370417|\n",
            "|564068124|   1003525| 0.7492518121648812|                0.0|0.41476640489189265|\n",
            "|564068124|   1004529| 0.3979572004788534|                0.0|0.39797348320603587|\n",
            "|564068124|   1002544|                0.0|                0.0| 0.3684475715621294|\n",
            "|564068124|   1005174| 0.7534900163144915|                0.0|                0.0|\n",
            "|564068124|   5100610| 0.7655957914564486|                0.0|                0.0|\n",
            "|564068124|   5100337| 0.8360238650225026|                0.0|                0.0|\n",
            "|564068124|   1004205| 0.8296777343325739|                0.0|                0.0|\n",
            "|564068124|   1004655| 0.4528812955897657|0.45289673719468876|                0.0|\n",
            "|564068124|   1003549| 0.5379737330074293| 0.5379333807242556|                0.0|\n",
            "+---------+----------+-------------------+-------------------+-------------------+\n",
            "only showing top 20 rows\n",
            "\n"
          ]
        }
      ],
      "source": [
        "# Produtos com maior número de interações para o usuário\n",
        "\n",
        "interactions.filter(col('user_id') == 564068124).sort('purchases', ascending=False).show()"
      ]
    },
    {
      "cell_type": "markdown",
      "metadata": {
        "id": "Yq05eent47ff"
      },
      "source": [
        "<font size=3>Ao gerar recomendações, podemos melhorar as pontuações da filtragem colaborativa (CF) incorporando recursos adicionais que resultam em recomendações mais envolventes e personalizadas. Com esta função, combinamos as pontuações do CF com outras duas características: a taxa de conversão do produto e os hábitos de consumo do usuário.\n",
        "\n",
        "<font size=3>O cálculo envolve uma média ponderada dos três recursos. Por padrão, a pontuação CF tem o maior peso, mas podemos ajustar os pesos conforme necessário. Antes do cálculo da média, todos os recursos são dimensionados entre 0 e 1 para garantir um intervalo consistente. Após o cálculo, os recursos são reduzidos aos seus valores originais.\n",
        "\n",
        "<font size=3>Vamos nos aprofundar nos recursos específicos:\n",
        "\n",
        "<font size=3>- Pontuação CF: representa a confiança no envolvimento do usuário, calculada pelo algoritmo ALS. Ele captura as preferências e padrões nas interações usuário-produto.\n",
        "\n",
        "<font size=3>- Taxa de conversão: mede a taxa de compra por visualização dos produtos. Priorizamos produtos com maiores taxas de conversão, pois possuem maior probabilidade de serem adquiridos após serem descobertos. Isso ajuda a garantir que as recomendações sejam eficazes para impulsionar as vendas reais.\n",
        "\n",
        "<font size=3>- Hábitos de consumo: avaliamos os hábitos de consumo dos usuários com base no preço relativo médio das compras. Isso ajuda a identificar se os usuários tendem a preferir produtos mais caros e luxuosos ou preferem opções mais acessíveis para evitar recomendar produtos que se desviem significativamente do orçamento do usuário. Além disso, introduzimos um coeficiente de reforço de gastos, que favorece ligeiramente produtos com preços acima das preferências do usuário, a fim de gerar mais receitas. No entanto, é necessária cautela na definição deste coeficiente para evitar um impacto negativo do envolvimento nas nossas recomendações.\n",
        "\n",
        "<font size=3>Ao combinar esses recursos e ajustar os pesos, pretendemos gerar recomendações que sejam envolventes e alinhadas com as preferências e comportamentos dos usuários."
      ]
    },
    {
      "cell_type": "code",
      "execution_count": 76,
      "metadata": {
        "id": "pMCKVXgJ47ff"
      },
      "outputs": [],
      "source": [
        "def calculate_recommendation_scores_for_user(user_id, recs, products, users, coef_als_score=0.8):\n",
        "    # Juntar os dados de produtos nas recomendações\n",
        "    recs = recs.join(products.select('product_id', 'purchase_per_view', 'relative_price'), on='product_id')\n",
        "    \n",
        "    # Obter a média relativa do preço do usuário\n",
        "    user_avg_relative_price = users.filter(col('user_id') == user_id).select('avg_relative_price_purchased').collect()[0][0]\n",
        "\n",
        "    # Normalizar a pontuação de classificação (rating) para o intervalo de 0 a 2\n",
        "    recs = recs.withColumn('rating', col('rating') / 2)\n",
        "    \n",
        "    # Normalizar a taxa de compra por visualização (purchase_per_view) para o intervalo de 0 a 0.075\n",
        "    recs = recs.withColumn('purchase_per_view', col('purchase_per_view') / 0.075)\n",
        "    \n",
        "    # Normalizar o valor do preço relativo para o intervalo de -5 a 5\n",
        "    recs = recs.withColumn('relative_price', (col('relative_price') + 5) / 10)\n",
        "    \n",
        "    # Normalizar o preço médio relativo dos usuários para o intervalo de -1 a 1\n",
        "    user_avg_relative_price = (user_avg_relative_price + 1) / 2\n",
        "\n",
        "    # Calcular as pontuações de recomendação considerando apenas a pontuação ALS e a taxa de compra por visualização\n",
        "    recs = recs.withColumn('recommendation_score', (recs['rating'] * coef_als_score + recs['purchase_per_view'] * (1 - coef_als_score)) / (coef_als_score + (1 - coef_als_score)))\n",
        "    \n",
        "    # Reescalar a pontuação de classificação (rating) para o intervalo original de 0 a 2\n",
        "    recs = recs.withColumn('rating', col('rating') * 2)\n",
        "    \n",
        "    # Reescalar a taxa de compra por visualização (purchase_per_view) para o intervalo original de 0 a 0.075\n",
        "    recs = recs.withColumn('purchase_per_view', col('purchase_per_view') * 0.075)\n",
        "    \n",
        "    # Reescalar o valor do preço relativo para o intervalo original de -5 a 5\n",
        "    recs = recs.withColumn('relative_price', col('relative_price') * 10 - 5)\n",
        "    \n",
        "    # Reescalar a média do preço relativo dos usuários para o intervalo original de -1 a 1\n",
        "    user_avg_relative_price = user_avg_relative_price * 2 - 1\n",
        "    \n",
        "    return recs"
      ]
    },
    {
      "cell_type": "code",
      "execution_count": 87,
      "metadata": {
        "id": "nOLP-Kjw47fg"
      },
      "outputs": [
        {
          "name": "stderr",
          "output_type": "stream",
          "text": [
            "                                                                                \r"
          ]
        }
      ],
      "source": [
        "recs_user = calculate_recommendation_scores_for_user(564068124, recs_for_user_1, products, users)"
      ]
    },
    {
      "cell_type": "code",
      "execution_count": 88,
      "metadata": {
        "id": "0X9C-hpu47fg"
      },
      "outputs": [],
      "source": [
        "# Add all product features to the recommendations dataframe\n",
        "\n",
        "recs_user = recs_user.join(products, on='product_id', how='left')"
      ]
    },
    {
      "cell_type": "code",
      "execution_count": 89,
      "metadata": {
        "id": "RjHRMrFG47fg"
      },
      "outputs": [
        {
          "name": "stderr",
          "output_type": "stream",
          "text": [
            "                                                                                \r"
          ]
        },
        {
          "name": "stdout",
          "output_type": "stream",
          "text": [
            "+----------+-------------------+--------------------+--------------------+--------------------+-------------------+--------------------+-----+-----+---------+------------------+-------------------+-------------------+--------------------+-------------------+-------------------+--------------------+\n",
            "|product_id|             rating|   purchase_per_view|      relative_price|recommendation_score|        category_id|       category_code|views|carts|purchases|             price|         first_date|          last_date|   purchase_per_view|      cart_per_view|  purchase_per_cart|      relative_price|\n",
            "+----------+-------------------+--------------------+--------------------+--------------------+-------------------+--------------------+-----+-----+---------+------------------+-------------------+-------------------+--------------------+-------------------+-------------------+--------------------+\n",
            "|   1004833| 1.0896239280700684|0.056461680963311986| -0.1325554920984846|  0.5864140537968593|2053013555631882655|electronics.smart...|24831| 3206|     1402|170.71233703590462|2019-10-31 21:13:59|2019-11-30 20:33:48|0.056461680963311986| 0.1291128025452056|0.43730505302557704| -0.1325554920984844|\n",
            "|   1004856|  1.009300947189331| 0.06053134556574923| -0.2433036207854542|   0.565137300384397|2053013555631882655|electronics.smart...|52320| 7416|     3167| 127.2753704910735|2019-10-31 21:06:38|2019-11-30 20:56:31| 0.06053134556574923|0.14174311926605504|0.42704962243797195|-0.24330362078545412|\n",
            "|   1002544| 1.0079739093780518| 0.05144149236856981|  0.6456194636731745|  0.5403668767340735|2053013555631882655|electronics.smart...|22997| 2589|     1183|475.92344913893015|2019-10-31 21:16:35|2019-11-30 20:54:21| 0.05144149236856981|0.11257990172631213|0.45693317883352647|  0.6456194636731751|\n",
            "|   1004767| 1.0175837278366089| 0.04699507592146198| 0.05861878981970392|  0.5323536935918756|2053013555631882655|electronics.smart...|48537| 5896|     2281|245.69356684416513|2019-10-31 21:11:16|2019-11-30 20:53:15| 0.04699507592146198| 0.1214743391639368| 0.3868724559023066| 0.05861878981970449|\n",
            "|   1005115| 0.9795106649398804| 0.03792240729316609|  1.7868508262402383| 0.49293068542439505|2053013555631882655|electronics.smart...|58356| 6011|     2213| 923.5303667768083|2019-10-31 21:09:26|2019-11-30 20:55:22| 0.03792240729316609| 0.1030056892179039| 0.3681583763100982|  1.7868508262402387|\n",
            "|   1004870| 0.2313843071460724| 0.03865922608121008| 0.15184500860318906| 0.19564499240832248|2053013555631882655|electronics.smart...|27238| 3183|     1053|282.25819501811077|2019-10-31 21:29:34|2019-11-30 20:26:15| 0.03865922608121007|0.11685880020559512| 0.3308199811498586| 0.15184500860318914|\n",
            "|   1004836|0.17872895300388336| 0.04532358156028369|0.019808512789015964| 0.19235446536230982|2053013555631882655|electronics.smart...|18048| 1981|      818| 230.4716328488508|2019-10-31 21:33:39|2019-11-30 20:07:49| 0.04532358156028369|0.10976285460992907|0.41292276627965674|0.019808512789016266|\n",
            "|   1004873|0.26436281204223633|0.031171820274191936|  0.3471605619881686| 0.18886997888140633|2053013555631882655|electronics.smart...|19986| 1592|      623|358.86368947344715|2019-10-31 22:26:05|2019-11-30 20:30:14|0.031171820274191936|0.07965575903132192| 0.3913316582914573|  0.3471605619881688|\n",
            "|   1005239|0.30297431349754333|0.013757922399134334| 0.10947796722474301| 0.15787751846337555|2053013555631882655|electronics.smart...|19407| 1051|      267| 265.6412482509046|2019-10-31 21:38:16|2019-11-30 20:53:40|0.013757922399134334|0.05415571700932653|0.25404376784015226| 0.10947796722474223|\n",
            "|   4804718|0.24167221784591675|0.017243702007274687|   4.204497819035021|  0.1426520924910992|2053013554658804075|electronics.audio...|14846|  768|      256| 344.2590491493377|2019-11-01 02:23:06|2019-11-30 20:55:40|0.017243702007274687|0.05173110602182406| 0.3333333333333333|   4.204497819035021|\n",
            "+----------+-------------------+--------------------+--------------------+--------------------+-------------------+--------------------+-----+-----+---------+------------------+-------------------+-------------------+--------------------+-------------------+-------------------+--------------------+\n",
            "\n"
          ]
        }
      ],
      "source": [
        "# Products with the highest recommendation scores\n",
        "\n",
        "recs_user.sort('recommendation_score', ascending=False).show()"
      ]
    }
  ],
  "metadata": {
    "colab": {
      "provenance": []
    },
    "kernelspec": {
      "display_name": "Python 3",
      "name": "python3"
    },
    "language_info": {
      "codemirror_mode": {
        "name": "ipython",
        "version": 3
      },
      "file_extension": ".py",
      "mimetype": "text/x-python",
      "name": "python",
      "nbconvert_exporter": "python",
      "pygments_lexer": "ipython3",
      "version": "3.11.9"
    }
  },
  "nbformat": 4,
  "nbformat_minor": 0
}
